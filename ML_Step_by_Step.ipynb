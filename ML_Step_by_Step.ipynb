{
  "nbformat": 4,
  "nbformat_minor": 0,
  "metadata": {
    "colab": {
      "name": "ML Step by Step.ipynb",
      "provenance": [],
      "authorship_tag": "ABX9TyNbjUcH1NXmCNJZGEgo2S/0",
      "include_colab_link": true
    },
    "kernelspec": {
      "name": "python3",
      "display_name": "Python 3"
    },
    "language_info": {
      "name": "python"
    }
  },
  "cells": [
    {
      "cell_type": "markdown",
      "metadata": {
        "id": "view-in-github",
        "colab_type": "text"
      },
      "source": [
        "<a href=\"https://colab.research.google.com/github/paulo-batista/LABDATA-FIA/blob/main/ML_Step_by_Step.ipynb\" target=\"_parent\"><img src=\"https://colab.research.google.com/assets/colab-badge.svg\" alt=\"Open In Colab\"/></a>"
      ]
    },
    {
      "cell_type": "code",
      "metadata": {
        "id": "ll4qPYt-lKxf"
      },
      "source": [
        "import os\n",
        "import tarfile\n",
        "import urllib\n",
        "import pandas as pd\n",
        "\n",
        "DOWNLOAD_ROOT = \"htts://githubusercontent.com/ageron/handson-ml2/master/\"\n",
        "HOUSING_PATH = os.path.join(\"datasets\", \"housing\")\n",
        "HOUSING_URL = DOWNLOAD_ROOT + \"datasets/housing/housing.tgz\""
      ],
      "execution_count": null,
      "outputs": []
    },
    {
      "cell_type": "code",
      "metadata": {
        "id": "uWMYUA5VlRRJ"
      },
      "source": [
        "def fetch_housing_data(housing_url=HOUSING_URL, housing_path=HOUSING_PATH):\n",
        "  os.makedirs(housing_path,exist_ok=True)\n",
        "  tgz_path = os.path.join(housing_path, \"housing.tgz\")\n",
        "  urllib.request.urlretrieve(housing_url, tgz_path)\n",
        "  housing_tgz = tarfile.open(tgz_path)\n",
        "  housing_tgz.extracall(path=housing_path)\n",
        "  housing_tgz.close()"
      ],
      "execution_count": null,
      "outputs": []
    },
    {
      "cell_type": "code",
      "metadata": {
        "id": "4lpFX9gilUi2"
      },
      "source": [
        "def load_housing_data(housing_path=HOUSING_PATH):\n",
        "  csv_path = os.path.join(housing_path, \"housing.csv\")\n",
        "  return pd.read_csv(csv_path)"
      ],
      "execution_count": null,
      "outputs": []
    },
    {
      "cell_type": "code",
      "metadata": {
        "id": "8FHqnh36lYxk"
      },
      "source": [
        "housing = load_housing_data()\n",
        "housing.head()"
      ],
      "execution_count": null,
      "outputs": []
    }
  ]
}