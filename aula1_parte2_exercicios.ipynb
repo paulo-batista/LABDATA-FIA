{
  "nbformat": 4,
  "nbformat_minor": 0,
  "metadata": {
    "kernelspec": {
      "display_name": "Python 3",
      "language": "python",
      "name": "python3"
    },
    "language_info": {
      "codemirror_mode": {
        "name": "ipython",
        "version": 3
      },
      "file_extension": ".py",
      "mimetype": "text/x-python",
      "name": "python",
      "nbconvert_exporter": "python",
      "pygments_lexer": "ipython3",
      "version": "3.7.8"
    },
    "colab": {
      "name": "aula1-parte2-exercicios.ipynb",
      "provenance": [],
      "collapsed_sections": [],
      "include_colab_link": true
    }
  },
  "cells": [
    {
      "cell_type": "markdown",
      "metadata": {
        "id": "view-in-github",
        "colab_type": "text"
      },
      "source": [
        "<a href=\"https://colab.research.google.com/github/paulo-batista/LABDATA-FIA/blob/main/aula1_parte2_exercicios.ipynb\" target=\"_parent\"><img src=\"https://colab.research.google.com/assets/colab-badge.svg\" alt=\"Open In Colab\"/></a>"
      ]
    },
    {
      "cell_type": "markdown",
      "metadata": {
        "id": "az5R5EDur6ke"
      },
      "source": [
        "---\n",
        "**Autor**: Prof. Dino Magri\n",
        "\n",
        "**Contato**: `professor.dinomagri@gmail.com`\n",
        "\n",
        "**Licença deste notebook**: \n",
        "<br>\n",
        "<img align=\"left\" width=\"80\" src=\"https://licensebuttons.net/l/by/3.0/88x31.png\" />\n",
        "\n",
        "<br>\n",
        "<br>\n",
        "\n",
        "[Clique aqui para saber mais sobre a licença CC BY v4.0](https://creativecommons.org/licenses/by/4.0/legalcode.pt)\n",
        "\n",
        "\n",
        "---"
      ]
    },
    {
      "cell_type": "markdown",
      "metadata": {
        "id": "TEVko5z6bz9f"
      },
      "source": [
        "## Métodos que podem auxiliar na resolução dos exercícios\n",
        "\n",
        "### Lista\n",
        "\n",
        "Acesse a documentação em https://docs.python.org/3/tutorial/datastructures.html#more-on-lists\n",
        "\n",
        "Método | Descrição\n",
        "---- | ----\n",
        "```list.append(x)``` | Adiciona um item ao fim da lista; equivalente a a[len(a):] = [x]\n",
        "```list.extend(L)``` | Prolonga a lista, adicionando no fim todos os elementos da lista L passada como argumento; equivalente a a[len(a):] = L\n",
        "```list.insert(i, x)``` | Insere um item em uma posição especificada\n",
        "```list.remove(x)``` | Remove o primeiro item encontrado na lista cujo valor é igual a x\n",
        "```list.pop([i])``` | Remove o item na posição dada e o devolve.\n",
        "```list.index(x)``` | Devolve o índice do primeiro item cujo valor é igual a x, gerando ValueError se este valor não existe\n",
        "```list.count(x)``` | Devolve o número de vezes que o valor x aparece na lista\n",
        "```list.sort()``` | Ordena os itens na própria lista\n",
        "```list.reverse()``` | Inverte a ordem dos elementos na lista\n",
        "\n",
        "### Dicionário\n",
        "\n",
        "Acesse a documentação: https://docs.python.org/3/tutorial/datastructures.html#dictionaries \n",
        "\n",
        "Método | Descrição\n",
        "--- | ---\n",
        "```dic.keys()``` | Retorna uma lista com as chaves do dicionário.\n",
        "```dic.values()``` | Retorna uma lista com os valores do dicionário.\n",
        "```dic.items()``` | Retorna uma lista de tuplas com o conteúdo do dicionário, cada tupla contendo um par (chave, valor).\n",
        "```dic.update(d2)``` | Atualiza o dicionário com base em um segundo. dicionário (d2) fornecido como parâmetro. Elementos do dicionário original que também existem no segundo elemento são atualizados. Elementos que existem no segundo mas não existem no original serão adicionados a este.\n",
        "```dic.clear()``` | Remove todos os elementos do dicionário.\n",
        "```dic.copy()``` | Realiza uma cópia do dicionário\n",
        "\n",
        "\n",
        "### String\n",
        "\n",
        "Acesse a documentação: https://docs.python.org/3/library/stdtypes.html#string-methods\n",
        "\n",
        "Método | Descrição\n",
        "--- | ---\n",
        "```str.split(sep=None)``` | Retorna uma lista de palavras da string, utilizando um separado. Se nenhum separador for definido, será utilizado o espaço em branco.\n",
        "```str.join(iteravel)``` | Retorna uma string que é a concatenação de string em um iteravel.\n",
        "```str.endswith(suffix)``` | Retorna `True` se a string termina com o sufixo especificado, caso contrario retorna `False`.\n",
        "```str.replace(old, new)``` | Retorna uma copia da string com todas as ocorrencias da substring `old` pela string `new`."
      ]
    },
    {
      "cell_type": "markdown",
      "metadata": {
        "id": "jSF2glzxZ9-9"
      },
      "source": [
        "# Exercícios\n",
        "\n"
      ]
    },
    {
      "cell_type": "markdown",
      "metadata": {
        "id": "mvos2fKWZ9--"
      },
      "source": [
        "**```1 - Escreva um programa que aceita como entrada uma sequencia de palavras separadas por virgulas. A saída esperada são as palavras ordernadas alfabeticamente e separadas por espaço.```**\n",
        "\n",
        "- Exemplo de entrada: `'ola,python,data,programacao'`\n",
        "- Exemplo de saida `'data ola programacao python'`\n",
        "\n",
        "Dica: Consulte os métodos de string e lista para realizar esse exercícios."
      ]
    },
    {
      "cell_type": "code",
      "metadata": {
        "id": "xVJVssz-bJu0"
      },
      "source": [
        "entrada = 'ola,python,data,programacao'"
      ],
      "execution_count": 8,
      "outputs": []
    },
    {
      "cell_type": "code",
      "metadata": {
        "id": "6kbNxRutbSQ7",
        "colab": {
          "base_uri": "https://localhost:8080/"
        },
        "outputId": "e40e2a43-d8ed-46ff-9a80-27fda21bf7cc"
      },
      "source": [
        "sorted(entrada.split(\",\"))"
      ],
      "execution_count": 30,
      "outputs": [
        {
          "output_type": "execute_result",
          "data": {
            "text/plain": [
              "['data', 'ola', 'programacao', 'python']"
            ]
          },
          "metadata": {},
          "execution_count": 30
        }
      ]
    },
    {
      "cell_type": "markdown",
      "metadata": {
        "id": "zKb6RikcZ9_C"
      },
      "source": [
        "**```2 - Escreva um programa que irá receber uma string contendo números separados por virgula. O programa deverá imprimir a soma de todos os números pares.```**\n",
        "\n",
        "- Exemplo de entrada: `'1,2,3,4,5,6,7'`\n",
        "- Exemplo de saída: 12\n",
        "\n",
        "Dica: Lembre-se de converter os números antes de soma-los."
      ]
    },
    {
      "cell_type": "code",
      "metadata": {
        "id": "n4_eRihShNRx",
        "colab": {
          "base_uri": "https://localhost:8080/"
        },
        "outputId": "f44594a5-e11c-4682-af1c-d68fd7480022"
      },
      "source": [
        "entrada = '1,2,3,4,5,6,7'\n",
        "list_int = map(int, entrada.split(\",\"))\n",
        "print(sum(i for i in list_int if i % 2 == 0))"
      ],
      "execution_count": 41,
      "outputs": [
        {
          "output_type": "stream",
          "name": "stdout",
          "text": [
            "12\n"
          ]
        }
      ]
    },
    {
      "cell_type": "markdown",
      "metadata": {
        "id": "_3bo6gbaZ9_D"
      },
      "source": [
        "**```3 - Escreva um programa que utiliza o dicionário abaixo para decodificar as mensagens.```**\n",
        "\n",
        "- Exemplo de entrada: `'3st02 pr0gr4m4nd0 3m pyth0n 3 é m21t0 s1mpl3s!'`\n",
        "- Exemplo de saída: `'estou programando em python e é muito simples!'`\n",
        "\n",
        "\n",
        "Importante: teste com as seguintes frases:\n",
        "\n",
        "- `pyth0n r0cks!`\n",
        "- `1nt3l1g3nc14 4rt1f1c14l 3 4n4lyt1cs c0m pyth0n`"
      ]
    },
    {
      "cell_type": "code",
      "metadata": {
        "id": "8XElI4mEZ9_E",
        "colab": {
          "base_uri": "https://localhost:8080/"
        },
        "outputId": "b5db2f97-3fd2-4e93-979b-aff81cae36f4"
      },
      "source": [
        "# e = encrypted text\n",
        "# d = descrypted text\n",
        "d=''\n",
        "#e = 'pyth0n r0cks!'\n",
        "e = '1nt3l1g3nc14 4rt1f1c14l 3 4n4lyt1cs c0m pyth0n'\n",
        "dict_deco = {\n",
        "    '4': 'a',\n",
        "    '3': 'e',\n",
        "    '1': 'i',\n",
        "    '0': 'o',\n",
        "    '2': 'u'\n",
        "}\n",
        "\n",
        "for k in enumerate(e):\n",
        "  d += dict_deco.get(e[k[0]],e[k[0]])\n",
        "  \n",
        "print(d)"
      ],
      "execution_count": 76,
      "outputs": [
        {
          "output_type": "stream",
          "name": "stdout",
          "text": [
            "inteligencia artificial e analytics com python\n"
          ]
        }
      ]
    },
    {
      "cell_type": "code",
      "metadata": {
        "id": "pFP92md-v6N-",
        "colab": {
          "base_uri": "https://localhost:8080/"
        },
        "outputId": "bb546010-468d-45f1-dcaf-ed6b940948b9"
      },
      "source": [
        "frases_codificadas = ['3st02 pr0gr4m4nd0 3m pyth0n 3 é m21t0 s1mpl3s!', 'pyth0n r0cks!', '1nt3l1g3nc14 4rt1f1c14l 3 4n4lyt1cs c0m pyth0n']\n",
        "\n",
        "def decrypt(t):\n",
        "  d=''\n",
        "  dict_deco = {\n",
        "    '4': 'a',\n",
        "    '3': 'e',\n",
        "    '1': 'i',\n",
        "    '0': 'o',\n",
        "    '2': 'u'\n",
        "  }\n",
        "\n",
        "  for k in enumerate(t):\n",
        "    d += dict_deco.get(t[k[0]],t[k[0]])\n",
        "  \n",
        "  return d\n",
        "\n",
        "for i in frases_codificadas:\n",
        "  print(decrypt(i))"
      ],
      "execution_count": 93,
      "outputs": [
        {
          "output_type": "stream",
          "name": "stdout",
          "text": [
            "estou programando em python e é muito simples!\n",
            "python rocks!\n",
            "inteligencia artificial e analytics com python\n"
          ]
        }
      ]
    },
    {
      "cell_type": "markdown",
      "metadata": {
        "id": "yT03JQ9VZ9_E"
      },
      "source": [
        "**```4 - Escreva um programa que verifica se um determinado arquivo tem as seguintes extensões: json, csv, txt```**\n",
        "\n",
        "- Caso seja `json` a saída deverá ser: 'Arquivo **XXX.json** suportado.'\n",
        "- Caso seja `csv` a saída deverá ser: 'Arquivo **XXX.csv** suportado.' \n",
        "- Caso seja `txt` a saída deverá ser: 'Arquivo **XXX.txt** suportado.'\n",
        "- Caso contrário a saída deverá ser: 'Arquivo **XXX** não suportado!'\n",
        "\n",
        "`XXX` deverá ser o nome do arquivo."
      ]
    },
    {
      "cell_type": "code",
      "metadata": {
        "id": "Vc3tH9MFZ9_E",
        "colab": {
          "base_uri": "https://localhost:8080/"
        },
        "outputId": "07a1da14-0498-49c7-d0e6-5f45edf04c78"
      },
      "source": [
        "arquivos_entradas = ['programa.py', 'dataset.json', 'nomes.csv', 'livro.txt', 'main.R', 'data.json']\n",
        "e_file = ['json', 'csv', 'txt']\n",
        "e=''\n",
        "for file in arquivos_entradas:\n",
        "  e = file.split('.')[1]\n",
        "  if any(e in s for s in e_file):\n",
        "    print('Arquivo ' + file + ' suportado')\n",
        "  else:\n",
        "    print('Arquivo ' + file + ' não suportado')\n",
        " "
      ],
      "execution_count": 14,
      "outputs": [
        {
          "output_type": "stream",
          "name": "stdout",
          "text": [
            "Arquivo programa.py não suportado\n",
            "Arquivo dataset.json suportado\n",
            "Arquivo nomes.csv suportado\n",
            "Arquivo livro.txt suportado\n",
            "Arquivo main.R não suportado\n",
            "Arquivo data.json suportado\n"
          ]
        }
      ]
    },
    {
      "cell_type": "code",
      "metadata": {
        "id": "jGvegZKU1CQb"
      },
      "source": [
        ""
      ],
      "execution_count": null,
      "outputs": []
    },
    {
      "cell_type": "markdown",
      "metadata": {
        "id": "PH2Gl8gvZ9_H"
      },
      "source": [
        "**```5 - Escreva um programa para imprimir o primeiro e o último elemento da lista cores```**\n",
        "```\n",
        "    cores = ['azul', 'amarelo', 'vermelho', 'preto', 'branco', 'cinza']\n",
        "```\n",
        "\n",
        "- Exemplo de saida = `'azul - cinza'`"
      ]
    },
    {
      "cell_type": "code",
      "metadata": {
        "id": "2JDkjjw_Z9_I",
        "colab": {
          "base_uri": "https://localhost:8080/"
        },
        "outputId": "16c6f7f9-d7b8-43dd-bb16-06d2896a1f96"
      },
      "source": [
        "cores = ['azul', 'amarelo', 'vermelho', 'preto', 'branco', 'cinza']\n",
        "print(cores[0] +' - '+ cores[-1])"
      ],
      "execution_count": 22,
      "outputs": [
        {
          "output_type": "stream",
          "name": "stdout",
          "text": [
            "azul - cinza\n"
          ]
        }
      ]
    },
    {
      "cell_type": "markdown",
      "metadata": {
        "id": "ij6B2_n8Z9_I"
      },
      "source": [
        "**```6 - Escreva um programa para verificar se um número está dentro de um grupo de números.```**\n",
        "\n",
        "Utilize a variável `grupos` que contém 4 listas que representam a respectiva posição dos números relacionados a lista `numeros_verificar`.\n",
        "\n",
        "Ou seja, o número 1 da lista `numeros_verificar` corresponde a primeira posição da lista `grupos`, que é a lista `[2, 3, 1]`\n",
        "\n",
        "\n",
        "A saída esperada deve ser para todos os números da lista `numeros_verificar`:\n",
        "\n",
        "- O número X existe dentro do grupo Y.\n",
        "- O número X não existe dentro do grupo Y.\n",
        "\n"
      ]
    },
    {
      "cell_type": "code",
      "metadata": {
        "id": "FqtZGiba2zo5",
        "colab": {
          "base_uri": "https://localhost:8080/"
        },
        "outputId": "eb02bf46-839d-42bc-be57-d998f7b7c1ba"
      },
      "source": [
        "numeros_verificar = [1, 2, 3, 4]\n",
        "\n",
        "grupos = [[2, 3, 1], [1, 3, 1], [3, 1, 1], [3, 1]]\n",
        "\n",
        "for i in numeros_verificar:\n",
        "  for g in grupos:\n",
        "    #print(i,g,i in g)\n",
        "    if i in g:\n",
        "      print('O número',i , 'existe dentro do grupo', g)\n",
        "    else:\n",
        "      print('O número', i , 'não existe dentro do grupo', g)\n",
        "  print('')\n",
        "   \n",
        "\n"
      ],
      "execution_count": 74,
      "outputs": [
        {
          "output_type": "stream",
          "name": "stdout",
          "text": [
            "O número 1 existe dentro do grupo [2, 3, 1]\n",
            "O número 1 existe dentro do grupo [1, 3, 1]\n",
            "O número 1 existe dentro do grupo [3, 1, 1]\n",
            "O número 1 existe dentro do grupo [3, 1]\n",
            "\n",
            "O número 2 existe dentro do grupo [2, 3, 1]\n",
            "O número 2 não existe dentro do grupo [1, 3, 1]\n",
            "O número 2 não existe dentro do grupo [3, 1, 1]\n",
            "O número 2 não existe dentro do grupo [3, 1]\n",
            "\n",
            "O número 3 existe dentro do grupo [2, 3, 1]\n",
            "O número 3 existe dentro do grupo [1, 3, 1]\n",
            "O número 3 existe dentro do grupo [3, 1, 1]\n",
            "O número 3 existe dentro do grupo [3, 1]\n",
            "\n",
            "O número 4 não existe dentro do grupo [2, 3, 1]\n",
            "O número 4 não existe dentro do grupo [1, 3, 1]\n",
            "O número 4 não existe dentro do grupo [3, 1, 1]\n",
            "O número 4 não existe dentro do grupo [3, 1]\n",
            "\n"
          ]
        }
      ]
    },
    {
      "cell_type": "code",
      "metadata": {
        "id": "CiTPKJkuLKSI"
      },
      "source": [
        ""
      ],
      "execution_count": null,
      "outputs": []
    },
    {
      "cell_type": "markdown",
      "metadata": {
        "id": "p83yLlUeZ9_J"
      },
      "source": [
        "**```7 - Escreva um programa que irá encontrar o valor mínimo e o valor máximo de uma sequencia de números. NÃO UTILIZE AS FUNÇÕES EMBUTIDAS.```**"
      ]
    },
    {
      "cell_type": "code",
      "metadata": {
        "id": "BONK1FT0Z9_J",
        "colab": {
          "base_uri": "https://localhost:8080/"
        },
        "outputId": "c091abb5-1e2f-4a98-f9e5-81d80b343898"
      },
      "source": [
        "numeros = [386, 462, 47, 418, 907, 344, 236, 375, 823, 566, 597, 978, 328, 615, 953, 345, \n",
        "    399, 162, 758, 219, 918, 237, 412, 566, 826, 248, 866, 950, 626, 949, 687, 217, \n",
        "    815, 67, 104, 58, 512, 24, 892, 894, 767, 553, 81, 379, 843, 831, 445, 742, 717, \n",
        "    958,743, 527]\n",
        "min_num = numeros[0]\n",
        "max_num=numeros[0]\n",
        "\n",
        "for i in numeros:  \n",
        "  if max_num < i:\n",
        "    max_num = i\n",
        "  if min_num >i:\n",
        "    min_num = i\n",
        "\n",
        "print('Valor mínimo:', min_num)\n",
        "print('Valor máximo:', max_num)\n"
      ],
      "execution_count": 92,
      "outputs": [
        {
          "output_type": "stream",
          "name": "stdout",
          "text": [
            "Valor mínimo: 24\n",
            "Valor máximo: 978\n"
          ]
        }
      ]
    },
    {
      "cell_type": "markdown",
      "metadata": {
        "id": "0wI8_LLpIu3L"
      },
      "source": [
        "**``9 - Crie um programa para contar o número de strings onde o tamanho da string é maior ou igual a 2 e o primeiro e o último caracteres são iguais.``**\n",
        "\n",
        "- Exemplo de entrada: ['abc', 'xyz', '1a1', '11221']\n",
        "- Exemplo de saída: 2"
      ]
    },
    {
      "cell_type": "code",
      "metadata": {
        "id": "tnJvr27iIT3c",
        "colab": {
          "base_uri": "https://localhost:8080/"
        },
        "outputId": "baaaaec7-f983-4bae-9f2f-f8879230632a"
      },
      "source": [
        "lst_str = ['abc', 'xyz', '1a1', '11221']\n",
        "contar = 0\n",
        "for i in lst_str:\n",
        "  if len(i)>=2 and i[0] == i[-1]:\n",
        "    contar+=1\n",
        "print(contar)"
      ],
      "execution_count": 102,
      "outputs": [
        {
          "output_type": "stream",
          "name": "stdout",
          "text": [
            "2\n"
          ]
        }
      ]
    },
    {
      "cell_type": "code",
      "metadata": {
        "id": "cwLrrR3XO47r"
      },
      "source": [
        ""
      ],
      "execution_count": null,
      "outputs": []
    },
    {
      "cell_type": "markdown",
      "metadata": {
        "id": "WQ_nYivGJ-J2"
      },
      "source": [
        "**`10 - Escreva um programa que irá solicitar ao usuário digitar um número entre 1 até 100. Após crie um dicionário onde a chave será o valor no intervalo de 1 até o número digitado e os valores de cada chave será o número elevado ao quadrado.`**\n",
        "\n",
        "- Exemplo de entrada: `n = 5`\n",
        "- Exemplo de saída: `{1: 1, 2: 4, 3: 9, 4: 16, 5: 25}`\n"
      ]
    },
    {
      "cell_type": "code",
      "metadata": {
        "id": "qu2hsKgfIUAK",
        "colab": {
          "base_uri": "https://localhost:8080/"
        },
        "outputId": "0003012b-1fe2-4c6a-c985-6d21f46c72d5"
      },
      "source": [
        "print('Digite valor de 1 a 100:', end = ' ')\n",
        "x = range(1, int(input())+1)\n",
        "d = {}\n",
        "for i in x:\n",
        "  d.update({i: i**2})\n",
        "\n",
        "print(d)"
      ],
      "execution_count": 114,
      "outputs": [
        {
          "output_type": "stream",
          "name": "stdout",
          "text": [
            "Digite valor de 1 a 100: 5\n",
            "{1: 1, 2: 4, 3: 9, 4: 16, 5: 25}\n"
          ]
        }
      ]
    },
    {
      "cell_type": "markdown",
      "metadata": {
        "id": "pmYKx-VZjJX7"
      },
      "source": [
        "**`11 - Considere o seguinte conjunto de dados.`**\n",
        "\n",
        "    pessoas = []\n",
        "\n",
        "Responda as seguintes perguntas:\n",
        "\n",
        "* a) Imprima o nome e idade de todas as pessoas. A seguinte string deverá ser impressa: `\"{} tem {} anos\"`\n",
        "* b) Imprima a quantidade de alunos existentes na base?\n",
        "* c) Qual é o pais que mais aparece na base?"
      ]
    },
    {
      "cell_type": "code",
      "metadata": {
        "id": "wICVm0SHjIMV"
      },
      "source": [
        "pessoas = [\n",
        "           {\"nome\": \"Guy\",\"data_nascimento\": \"1987\",\"pais\": \"Argentina\"},\n",
        "           {\"nome\": \"Lynn\",\"data_nascimento\": \"1983\",\"pais\": \"India\"},\n",
        "           {\"nome\": \"Jada\",\"data_nascimento\": \"1994\",\"pais\": \"Spain\"},\n",
        "           {\"nome\": \"Allen\",\"data_nascimento\": \"1977\",\"pais\": \"France\"},\n",
        "           {\"nome\": \"Axel\",\"data_nascimento\": \"1992\",\"pais\": \"Argentina\"},\n",
        "           {\"nome\": \"Colorado\",\"data_nascimento\": \"1998\",\"pais\": \"Brazil\"},\n",
        "           {\"nome\": \"Keely\",\"data_nascimento\": \"1987\",\"pais\": \"Brazil\"},\n",
        "           {\"nome\": \"Deanna\",\"data_nascimento\": \"1984\",\"pais\": \"Spain\"},\n",
        "           {\"nome\": \"Laith\",\"data_nascimento\": \"1991\",\"pais\": \"Brazil\"},\n",
        "           {\"nome\": \"Isadora\",\"data_nascimento\": \"1974\",\"pais\": \"France\"},\n",
        "           {\"nome\": \"Macon\",\"data_nascimento\": \"1991\",\"pais\": \"France\"},\n",
        "            {\"nome\": \"Dalton\",\"data_nascimento\": \"1988\",\"pais\": \"Brazil\"},\n",
        "           {\"nome\": \"Joan\",\"data_nascimento\": \"1970\",\"pais\": \"Argentina\"},\n",
        "           {\"nome\": \"Maxwell\",\"data_nascimento\": \"1986\",\"pais\": \"Brazil\"},\n",
        "           {\"nome\": \"Colt\",\"data_nascimento\": \"1987\",\"pais\": \"Spain\"},\n",
        "           {\"nome\": \"Wyatt\",\"data_nascimento\": \"1998\",\"pais\": \"Brazil\"},\n",
        "           {\"nome\": \"Nicole\",\"data_nascimento\": \"1976\",\"pais\": \"Brazil\"},\n",
        "           {\"nome\": \"Maryam\",\"data_nascimento\": \"1986\",\"pais\": \"Egypt\"}\n",
        "]\n"
      ],
      "execution_count": 49,
      "outputs": []
    },
    {
      "cell_type": "code",
      "metadata": {
        "id": "yi-y8RtQnuKk",
        "colab": {
          "base_uri": "https://localhost:8080/"
        },
        "outputId": "59b3e417-7056-4705-bf05-c67739034bea"
      },
      "source": [
        "# a)\n",
        "for dados_pessoais in pessoas:\n",
        "  print(\" {} tem {} anos\".format(dados_pessoais['nome'],2021-int(dados_pessoais['data_nascimento'])))"
      ],
      "execution_count": 45,
      "outputs": [
        {
          "output_type": "stream",
          "name": "stdout",
          "text": [
            " Guy tem 34 anos\n",
            " Lynn tem 38 anos\n",
            " Jada tem 27 anos\n",
            " Allen tem 44 anos\n",
            " Axel tem 29 anos\n",
            " Colorado tem 23 anos\n",
            " Keely tem 34 anos\n",
            " Deanna tem 37 anos\n",
            " Laith tem 30 anos\n",
            " Isadora tem 47 anos\n",
            " Macon tem 30 anos\n",
            " Dalton tem 33 anos\n",
            " Joan tem 51 anos\n",
            " Maxwell tem 35 anos\n",
            " Colt tem 34 anos\n",
            " Wyatt tem 23 anos\n",
            " Nicole tem 45 anos\n",
            " Maryam tem 35 anos\n"
          ]
        }
      ]
    },
    {
      "cell_type": "code",
      "metadata": {
        "id": "Is7LZuL9oYtg",
        "colab": {
          "base_uri": "https://localhost:8080/"
        },
        "outputId": "3c2ab31f-cb18-496a-ab74-1a14829acdcf"
      },
      "source": [
        "# b) \n",
        "print(\"Está base é composta por\",len(pessoas),\"alunos\")"
      ],
      "execution_count": 57,
      "outputs": [
        {
          "output_type": "stream",
          "name": "stdout",
          "text": [
            "Está base é composta por 18 alunos\n"
          ]
        }
      ]
    },
    {
      "cell_type": "code",
      "metadata": {
        "id": "Sj3ctTg0ojGP",
        "colab": {
          "base_uri": "https://localhost:8080/"
        },
        "outputId": "57f92783-4589-4bdd-f0f6-ed288a91a521"
      },
      "source": [
        "# c)\n",
        "total = {}\n",
        "\n",
        "# 1st - Count numbner of concidences\n",
        "for dados_pessoais in pessoas:\n",
        "  pais = dados_pessoais['pais']\n",
        "  for each_contry in pais:\n",
        "    if pais not in total:\n",
        "      total[pais]=0\n",
        "    total[pais] += 1\n",
        "print(\"Dicionário com as concidências\")\n",
        "print(total),print()\n",
        "\n",
        "# 2nd - Find Country with highest number \"qty\" of classmates \n",
        "qty=0\n",
        "pais_mais_alunos=''\n",
        "for pais in total.keys():\n",
        "  if qty < total[pais]:\n",
        "    qty = total[pais]\n",
        "    pais_mais_alunos = pais\n",
        "print(\"Resultado final\")\n",
        "print(pais_mais_alunos, \"é o país com maior número de alunos, totalizando\", qty, \"alunos\")"
      ],
      "execution_count": 83,
      "outputs": [
        {
          "output_type": "stream",
          "name": "stdout",
          "text": [
            "Dicionário com as concidências\n",
            "{'Argentina': 27, 'India': 5, 'Spain': 15, 'France': 18, 'Brazil': 42, 'Egypt': 5}\n",
            "\n",
            "Resultado final\n",
            "Brazil é o país com maior número de alunos, totalizando 42 alunos\n"
          ]
        }
      ]
    },
    {
      "cell_type": "markdown",
      "metadata": {
        "id": "AsVZNkOZZ9_K"
      },
      "source": [
        "**```12 - Escreva um programa o qual lê um texto (apenas palavras e espaços) e imprima apenas duas palavras. A primeira deverá ser a mais frequente. E a segunda é a palavra que tem maior quantidade de letras.```**\n",
        "\n",
        "As palavras devem ser padronizadas em maiúsculas ou minúsculas e ter tamanho minimo de 5 caracteres. Lembre-se de remover possíveis caracteres especiais.\n",
        "\n",
        "**NÃO UTILIZE MÓDULOS**"
      ]
    },
    {
      "cell_type": "code",
      "metadata": {
        "id": "S2a97ND67tmm"
      },
      "source": [
        "entrada = \"\"\"\n",
        "O modulo de Analytics tem como objetivo apresentar as principais metodologias de Estatistica Aplicada que podem ser utilizadas para a tomada de decisao. \n",
        "O modulo de Analytics visa apresentar os fundamentos para a realizacao de modelos com Inteligencia Artificial\n",
        "Tipos de variaveis: dados qualitativos e quantitativos\n",
        "Distribuicao de frequencias\n",
        "Medidas de posicao e dispersao\n",
        "Graficos: Barra, Setor, Box Plot e Histograma\n",
        "Identificacao e tratamento de outlier e missing values\n",
        "Coeficiente de correlacao linear de Pearson\n",
        "Coeficiente de determinacao e coeficiente de\n",
        "determinacao ajustado\n",
        "Ajuste da equacao de Regressao\n",
        "Testes estatisticos sobre os parametros dos modelos\n",
        "Interpretacao dos parametros do modelo\n",
        "Intervalo de confianca para os parametros do modelo\n",
        "Métodos de selecao de variavel\n",
        "Analise de residuos\n",
        "Previsao\n",
        "Amostragem Aleatoria Simples\n",
        "Amostragem Sistematica\n",
        "Amostragem Estratificada\n",
        "Introducao, framework de modelagem e manipulacao de dados\n",
        "Aplicacoes de Machine Learning\n",
        "Algoritmos baseados nas metodologias: arvore de Decisao, Bagging, Random Forest, Boosting, SVM (Support Vector Machines)\n",
        "Feature selection, Grid Search e Cross Validation\n",
        "Métricas para selecao de algoritmos\n",
        "Combinacoes de modelos de Machine Learning\n",
        "Modelos Nao Lineares (Splines e GAM) e Modelos Lineares com Regularizacao\n",
        "Reinforcement Learning\n",
        "Sistemas de Recomendacao com Machine Learning\n",
        "Algoritmos Nao Supervisionados\n",
        "Panorama para o surgimento do Big Data\n",
        "Utilizacao das ferramentas nos processos de administracao de empresas\n",
        "Necessidade da utilizacao das técnicas para a rapida tomada de decisao das empresas\n",
        "Vantagens da utilizacao das técnicas de Big Data\n",
        "7 Vs do Big Data: Variedade, Veracidade, Valor, Volume, Velocidade, Visualizacao e Vulnerabilidade\n",
        "O profissional adequado para trabalhar com Big Data\n",
        "Conceito de computacao quantica e Machine Learning Quantico\n",
        "\"\"\"\n",
        "total = {}\n",
        "total_letras = {}\n",
        "qty=0\n",
        "max_palavra=''\n",
        "\n",
        "# Limpando os dados (Data transformation)\n",
        "palavras = entrada.replace(\"\\n\",\" \").replace(\"(\",\"\").replace(\")\",\"\").replace(\",\",\" \").split(\" \")\n",
        "\n",
        "# Criando as dicts Total (Total de palavras no texto) e Total_letras (Tamanho de cada palavras)\n",
        "for palavra in palavras:\n",
        "  if palavra not in total:\n",
        "    total[palavra]=0\n",
        "    total_letras[palavra]=0\n",
        "  total[palavra] += 1\n",
        "  total_letras[palavra] = len(palavra)\n",
        "\n",
        "# Encontrado palavra com maior número de coincidências, resultado em mx_palavra\n",
        "for palavra in total.keys():\n",
        "  if qty < total[palavra]:\n",
        "    qty = total[palavra]\n",
        "    max_palavra = palavra\n",
        "\n",
        "# Encontrando a palavra/s com maior tamanho\n",
        "max_value = max(total_letras.values())\n",
        "keys_with_max_val = [key for key,val in total_letras.items() if val == max_value]\n"
      ],
      "execution_count": 39,
      "outputs": []
    },
    {
      "cell_type": "code",
      "metadata": {
        "id": "tXMvAEwu9x-v",
        "colab": {
          "base_uri": "https://localhost:8080/"
        },
        "outputId": "929f52ce-7a82-4765-80da-d8c6fd714168"
      },
      "source": [
        "# A primeira deverá ser a mais frequente, se existir mais do que uma, TODAS devem ser consideradas.\n",
        "#Respondendo a questão 1\n",
        "print(\"Resposta 1:\")\n",
        "print(\"[\\033[1m\" + max_palavra + \"\\033[0m]\" , \"é a palavra com maior número de coincidências, totalizando\", qty, \"coincidências\")\n",
        "print()\n"
      ],
      "execution_count": 37,
      "outputs": [
        {
          "output_type": "stream",
          "name": "stdout",
          "text": [
            "Resposta 1:\n",
            "[\u001b[1mde\u001b[0m] é a palavra com maior número de coincidências, totalizando 31 coincidências\n",
            "\n"
          ]
        }
      ]
    },
    {
      "cell_type": "code",
      "metadata": {
        "id": "5NteSmtdRsnZ",
        "colab": {
          "base_uri": "https://localhost:8080/"
        },
        "outputId": "115ce52e-4857-4c56-adb4-4f4fd34a7dd3"
      },
      "source": [
        "# A segunda é a palavra que tem maior quantidade de letras, se existir mais do que uma, TODAS devem ser consideradas.\n",
        "#Respondendo a questão 2\n",
        "print(\"Resposta 2:\")\n",
        "print('Maior/maiores palavra/s encontradas no texto com', max_value ,'caracteres', keys_with_max_val)\n"
      ],
      "execution_count": 38,
      "outputs": [
        {
          "output_type": "stream",
          "name": "stdout",
          "text": [
            "Resposta 2:\n",
            "Maior/maiores palavra/s encontradas no texto com 15 caracteres ['Supervisionados', 'Vulnerabilidade']\n"
          ]
        }
      ]
    }
  ]
}