{
  "nbformat": 4,
  "nbformat_minor": 0,
  "metadata": {
    "kernelspec": {
      "display_name": "Python 3",
      "language": "python",
      "name": "python3"
    },
    "language_info": {
      "codemirror_mode": {
        "name": "ipython",
        "version": 3
      },
      "file_extension": ".py",
      "mimetype": "text/x-python",
      "name": "python",
      "nbconvert_exporter": "python",
      "pygments_lexer": "ipython3",
      "version": "3.6.8"
    },
    "colab": {
      "name": "aula2-parte6-exercicios.ipynb",
      "provenance": [],
      "collapsed_sections": [],
      "include_colab_link": true
    }
  },
  "cells": [
    {
      "cell_type": "markdown",
      "metadata": {
        "id": "view-in-github",
        "colab_type": "text"
      },
      "source": [
        "<a href=\"https://colab.research.google.com/github/paulo-batista/LABDATA-FIA/blob/main/aula2_parte6_exercicios.ipynb\" target=\"_parent\"><img src=\"https://colab.research.google.com/assets/colab-badge.svg\" alt=\"Open In Colab\"/></a>"
      ]
    },
    {
      "cell_type": "markdown",
      "metadata": {
        "id": "RqyjrJBRgVdF"
      },
      "source": [
        "---\n",
        "**Autor**: Prof. Dino Magri\n",
        "\n",
        "**Contato**: `professor.dinomagri@gmail.com`\n",
        "\n",
        "**Licença deste notebook**: \n",
        "<br>\n",
        "<img align=\"left\" width=\"80\" src=\"https://licensebuttons.net/l/by/3.0/88x31.png\" />\n",
        "\n",
        "<br>\n",
        "<br>\n",
        "\n",
        "[Clique aqui para saber mais sobre a licença CC BY v4.0](https://creativecommons.org/licenses/by/4.0/legalcode.pt)\n",
        "\n",
        "\n",
        "---"
      ]
    },
    {
      "cell_type": "code",
      "metadata": {
        "id": "fE6SgOwp-Drq",
        "colab": {
          "base_uri": "https://localhost:8080/"
        },
        "outputId": "b063ebca-d7ec-44c9-de2a-7e61af73806f"
      },
      "source": [
        "from google.colab import drive\n",
        "drive.mount('/content/drive')"
      ],
      "execution_count": null,
      "outputs": [
        {
          "output_type": "stream",
          "name": "stdout",
          "text": [
            "Mounted at /content/drive\n"
          ]
        }
      ]
    },
    {
      "cell_type": "markdown",
      "metadata": {
        "id": "9IB2fsC1SKYO"
      },
      "source": [
        "# Exercícios\n",
        "\n",
        "**Exercício 1** - Escreva uma função chamada ```carregar_arquivo```, que lê o conteúdo do arquivo ```dados.txt```. Esse arquivo contém uma palavra em cada linha. Para cada linha lida, deve-se adicionar a palavra em uma lista. Ao final do código deve-se retornar a lista criada contendo todas as palavras. Lembre-se de remover o ```\\n```."
      ]
    },
    {
      "cell_type": "code",
      "metadata": {
        "collapsed": true,
        "id": "-YtrkDuYSKYR"
      },
      "source": [
        "def carregar_arquivo(f):\n",
        "  with open(f,'r') as f:\n",
        "    return f.read().splitlines()"
      ],
      "execution_count": 49,
      "outputs": []
    },
    {
      "cell_type": "code",
      "metadata": {
        "id": "xAERqO8iSKYU",
        "colab": {
          "base_uri": "https://localhost:8080/"
        },
        "outputId": "fdc48468-f5f1-4733-eddf-cb111cd2b247"
      },
      "source": [
        "dados = carregar_arquivo('/content/drive/MyDrive/datasets/dados.txt')\n",
        "print(dados)"
      ],
      "execution_count": 50,
      "outputs": [
        {
          "output_type": "stream",
          "name": "stdout",
          "text": [
            "['carro', 'navio', 'nuvem', 'big data', 'dinheiro', 'python', 'fia', 'programas', 'codigos', 'big data', 'dinheiro', 'programas', 'codigos', 'big data', 'dinheiro', 'programas', 'codigos', 'big data', 'dinheiro', 'programas', 'codigos', 'big data', 'dinheiro', 'programas', 'codigos', 'big data', 'dinheiro', 'python', 'fia', 'programas', 'codigos', 'big data', 'dinheiro', 'python', 'fia', 'programas', 'codigos', 'big data', 'dinheiro', 'python', 'fia', 'programas', 'codigos', 'big data', 'dinheiro', 'python', 'fia', 'programas', 'codigos', 'big data', 'dinheiro', 'fia', 'programas', 'codigos', 'big data', 'dinheiro', 'fia', 'programas', 'codigos', 'big data', 'dinheiro', 'fia', 'programas', 'codigos', 'big data', 'dinheiro', 'fia', 'programas', 'codigos', 'big data', 'dinheiro', 'python', 'fia', 'programas', 'codigos', 'dinheiro', 'python', 'fia', 'programas', 'codigos', 'dinheiro', 'python', 'fia', 'programas', 'codigos', 'dinheiro', 'python', 'fia', 'programas', 'codigos', 'dinheiro', 'python', 'fia', 'programas', 'codigos', 'dinheiro', 'python', 'fia', 'programas', 'codigos', 'fia', 'programas', 'codigos', 'big data', 'dinheiro', 'python', 'fia', 'programas', 'codigos', 'dinheiro', 'python', 'fia', 'programas', 'codigos', 'dinheiro', 'python', 'fia', 'programas', 'codigos', 'big data', 'dinheiro', 'python', 'fia', 'programas', 'codigos', 'dinheiro', 'python', 'fia', 'programas', 'codigos', 'dinheiro', 'python', 'carro', 'navio', 'nuvem', 'big data', 'dinheiro', 'python', 'fia', 'programas', 'codigos', 'big data', 'carro', 'navio', 'nuvem', 'big data', 'dinheiro', 'python', 'fia', 'programas', 'codigos', 'big data', 'fia', 'programas', 'codigos', 'dinheiro', 'python', 'fia', 'programas', 'codigos', 'dinheiro', 'python', 'carro', 'navio', 'nuvem', 'big data', 'dinheiro', 'python', 'fia', 'programas', 'codigos', 'big data', 'carro', 'navio', 'nuvem', 'big data', 'dinheiro', 'programas', 'codigos', 'dinheiro', 'python', 'fia', 'programas', 'codigos', 'dinheiro', 'python', 'fia', 'programas', 'codigos', 'dinheiro', 'python', 'fia', 'programas', 'codigos', 'dinheiro', 'python', 'fia', 'fia', 'programas', 'codigos']\n"
          ]
        }
      ]
    },
    {
      "cell_type": "markdown",
      "metadata": {
        "id": "8Psg02IzSKYV"
      },
      "source": [
        "**Exercício 2** - Crie uma função chamada ```remover_repetidos```. Essa função deve receber uma lista como parâmetro. Deve-se remover todos as palavras repetidas. Utilize uma lista auxiliar para facilitar. Ao final retorne a lista."
      ]
    },
    {
      "cell_type": "code",
      "metadata": {
        "collapsed": true,
        "id": "TVZE6latSKYW"
      },
      "source": [
        "#\n",
        "def remover_repetidos(dados):\n",
        "  return list(set(dados))"
      ],
      "execution_count": 54,
      "outputs": []
    },
    {
      "cell_type": "code",
      "metadata": {
        "id": "iwvHdoxHSKYY",
        "colab": {
          "base_uri": "https://localhost:8080/"
        },
        "outputId": "3977291f-0315-4ec3-eee5-f28e8899e994"
      },
      "source": [
        "dados_unicos = remover_repetidos(dados)\n",
        "print(dados_unicos)"
      ],
      "execution_count": 55,
      "outputs": [
        {
          "output_type": "stream",
          "name": "stdout",
          "text": [
            "['dinheiro', 'python', 'codigos', 'navio', 'carro', 'programas', 'big data', 'fia', 'nuvem']\n"
          ]
        }
      ]
    },
    {
      "cell_type": "markdown",
      "metadata": {
        "id": "3bAU0cD3SKYZ"
      },
      "source": [
        "**Exercício 3** - Agora, crie uma função chamada ```verificar_repetidos```. Essa função irá receber duas lista como parâmetro. Uma com todas as palavras lidas do arquivo e outra sem as palavras repetidas. Verifique a quantidade de vezes que as palavras aparecem. Ao final imprima a lista de palavras e a quantidade de vezes de cada palavra.\n",
        "\n",
        "    def verificar_repetidos(dados, dados_unicos):\n",
        "\n",
        "Exemplo de saída:\n",
        "\n",
        "    carro – 10\n",
        "    fia - 8\n",
        "    big data - 5\n"
      ]
    },
    {
      "cell_type": "code",
      "metadata": {
        "collapsed": true,
        "id": "ghruXD8GSKYa"
      },
      "source": [
        "#\n",
        "# seu código aqui\n",
        "#\n",
        "def verificar_repetidos(dados, dados_unicos):\n",
        "  freq = {}\n",
        "  for item in dados_unicos:\n",
        "    for linha in dados:\n",
        "      if item == linha:\n",
        "        if linha not in freq:\n",
        "          freq[item] = 0\n",
        "        freq[item]+=1\n",
        "  return(freq)\n",
        "\n"
      ],
      "execution_count": 64,
      "outputs": []
    },
    {
      "cell_type": "code",
      "metadata": {
        "collapsed": true,
        "id": "h-Ob7CfaSKYa",
        "colab": {
          "base_uri": "https://localhost:8080/"
        },
        "outputId": "2bbaa10e-38df-48d2-eb5e-c99828900ed8"
      },
      "source": [
        "verificar_repetidos(dados, dados_unicos)"
      ],
      "execution_count": 65,
      "outputs": [
        {
          "output_type": "execute_result",
          "data": {
            "text/plain": [
              "{'big data': 23,\n",
              " 'carro': 5,\n",
              " 'codigos': 35,\n",
              " 'dinheiro': 35,\n",
              " 'fia': 31,\n",
              " 'navio': 5,\n",
              " 'nuvem': 5,\n",
              " 'programas': 35,\n",
              " 'python': 26}"
            ]
          },
          "metadata": {},
          "execution_count": 65
        }
      ]
    },
    {
      "cell_type": "markdown",
      "metadata": {
        "id": "dHlCIJMOSKYa"
      },
      "source": [
        "**Exercício 4** - Escreva um programa em Python que irá somar todos os elementos numéricos da lista.\n",
        "\n",
        "Utilize a seguinte lista para resolver o exercício:\n",
        "\n",
        "    l3 = [1, [1, 2], 1.5, 2, 3.5, -8, 10, 10, 'a', 'b', 'z', (1.5, 2)]\n",
        "\n",
        "Imprima a seguinte mensagem no final ```\"Total = X\"```. Substitua X pelo valor calculado. \n",
        "\n",
        "Caso o elemento não seja numérico, a seguinte mensagem deve ser impressa ```\"{elemento} não é um elemento numérico\".```"
      ]
    },
    {
      "cell_type": "code",
      "metadata": {
        "collapsed": true,
        "id": "hZp4LlbRSKYb"
      },
      "source": [
        "#\n",
        "# seu código aqui\n",
        "#\n"
      ],
      "execution_count": null,
      "outputs": []
    },
    {
      "cell_type": "markdown",
      "metadata": {
        "id": "RqOY9Tv1SKYb"
      },
      "source": [
        "**Exercício 5** - Escreva um programa em Python que irá verificar a frequência dos elementos em uma lista.\n",
        "\n",
        "A resposta deve ser apresentada no formato de dicionário, onde a chave é o elemento e o valor é a quantidade de vezes que o elemento aparece.\n",
        "\n",
        "Utilize a seguinte lista para resolver o exercício:\n",
        "\n",
        "    lista = [10,'Python', 10, 10, 10, 20, 20, 20, 'FIA', 20, 40, 40, 50, 50, 30, 'Python']\n",
        "\n",
        "Imprima o dicionário final com a frequência dos elementos."
      ]
    },
    {
      "cell_type": "code",
      "metadata": {
        "collapsed": true,
        "id": "CiB5DadSSKYb"
      },
      "source": [
        "#\n",
        "# seu código aqui\n",
        "#\n"
      ],
      "execution_count": null,
      "outputs": []
    },
    {
      "cell_type": "markdown",
      "metadata": {
        "id": "hUPNFzBwSKYc"
      },
      "source": [
        "**Exercício 6** - Escreva uma função em Python que aceita duas strings como entrada e imprima a string que tiver o maior tamanho.\n",
        "\n",
        "Se as duas strings forem de mesmo tamanho a saída deverá ser:\n",
        "\n",
        "    \"X e Y tem o mesmo tamanho\"\n",
        "    \n",
        "Se algum dos parâmetro não for do tipo string, a saída será:\n",
        "\n",
        "    \"Ambos os parâmetros devem ser do tipo string\"\n",
        "    \n",
        "Se a entrada estiver correta, deve:\n",
        "\n",
        "    Entrada esperada: imprimir_string_maior(\"um\", \"dois\")\n",
        "    Saída esperada: dois"
      ]
    },
    {
      "cell_type": "code",
      "metadata": {
        "collapsed": true,
        "id": "gPAYLfMPSKYc"
      },
      "source": [
        "#\n",
        "# seu código aqui\n",
        "#\n"
      ],
      "execution_count": null,
      "outputs": []
    },
    {
      "cell_type": "code",
      "metadata": {
        "collapsed": true,
        "id": "k33xRwchSKYc"
      },
      "source": [
        "print(string_maior('a', 'x'))\n",
        "print(string_maior(\"um\", \"dois\"))\n",
        "print(string_maior(10, \"dez\"))\n",
        "print(string_maior(\"nome\", 12345))"
      ],
      "execution_count": null,
      "outputs": []
    },
    {
      "cell_type": "markdown",
      "metadata": {
        "id": "2dnEWeIoSKYd"
      },
      "source": [
        "**Exercício 7** - Escreva uma função em Python que recebe dois parâmetros obrigatórios, sendo o primeiro um dicionário e o segundo a chave que deseja procurar no dicionário.\n",
        "\n",
        "A função deve retornar True se a chave existir e False caso contrário.\n",
        "\n",
        "Tenha certeza que o primeiro parâmetro é um dicionário. Caso não seja, o retorno deve ser a seguinte mensagem (\"O parâmetro dic deve ser um dicionário\").\n",
        "\n",
        "O nome da função deve ser ```tem_chave(dic, chave)```.\n",
        "\n",
        "Utilize a função ```isinstance``` para verificar se a variável é ou não um dicionário (```dict```). Em caso de dúvida utilize a função ```help(isinstance)```.\n",
        "\n",
        "Teste a função criada com os seguintes comandos:\n",
        "\n",
        "    dic1 = {'x': 10, 'y': 20, 'z': 30}\n",
        "\n",
        "    print(tem_chave(dic1, 'x'))\n",
        "    print(tem_chave(dic1, 'a'))\n",
        "    print(tem_chave(10, 'a'))"
      ]
    },
    {
      "cell_type": "code",
      "metadata": {
        "collapsed": true,
        "id": "G9N3STbBSKYd"
      },
      "source": [
        "#\n",
        "# seu código aqui\n",
        "#\n"
      ],
      "execution_count": null,
      "outputs": []
    },
    {
      "cell_type": "code",
      "metadata": {
        "collapsed": true,
        "id": "tuxEHkuASKYd"
      },
      "source": [
        "dic1 = {'x': 10, 'y': 20, 'z': 30}\n",
        "\n",
        "print(tem_chave(dic1, 'x'))\n",
        "print(tem_chave(dic1, 'a'))\n",
        "print(tem_chave(10, 'a'))"
      ],
      "execution_count": null,
      "outputs": []
    },
    {
      "cell_type": "markdown",
      "metadata": {
        "id": "72XERGN1SKYe"
      },
      "source": [
        "**Exercício 8** - Escreva um programa em Python que peça ao usuário para digitar uma letra. O programa deve verificar se a letra é vogal ou consoante.\n",
        "\n",
        "Lembre-se de verificar se o usuário digitou apenas um caractere, caso tenha digitado mais do que um caractere, deve-se perguntar novamente.\n",
        "\n",
        "Tenha certeza que seu programa funcione com letras maisculas e minisculas.\n",
        "\n",
        "Saídas esperadas que devem ser contempladas no desenvolvimento:\n",
        "- Por favor, digite apenas um caractere. Tente novamente.\n",
        "- k é uma consoante.\n",
        "- a é uma vogal.\n",
        "- 1 não é uma letra.\n",
        "- % não é uma letra.\n",
        "\n",
        "Utilize a biblioteca string para verificar se o caractere é digito (string.digits) ou uma pontuação (string.punctuation)."
      ]
    },
    {
      "cell_type": "code",
      "metadata": {
        "id": "qTgxcRulSKYf",
        "colab": {
          "base_uri": "https://localhost:8080/"
        },
        "outputId": "c48efd79-79f2-46c3-c197-893ba18d1bef"
      },
      "source": [
        "import string\n",
        "\n",
        "#print(string.digits)\n",
        "#print(string.punctuation)\n",
        "\n",
        "#\n",
        "# seu código aqui\n",
        "#\n"
      ],
      "execution_count": null,
      "outputs": [
        {
          "output_type": "stream",
          "text": [
            "0123456789\n",
            "!\"#$%&'()*+,-./:;<=>?@[\\]^_`{|}~\n"
          ],
          "name": "stdout"
        }
      ]
    },
    {
      "cell_type": "code",
      "metadata": {
        "collapsed": true,
        "id": "04UmXZd7SKYf"
      },
      "source": [
        ""
      ],
      "execution_count": null,
      "outputs": []
    }
  ]
}